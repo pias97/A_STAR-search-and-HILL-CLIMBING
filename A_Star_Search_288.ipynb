{
  "nbformat": 4,
  "nbformat_minor": 0,
  "metadata": {
    "colab": {
      "name": "A_Star_Search_288.ipynb",
      "provenance": [],
      "collapsed_sections": [],
      "include_colab_link": true
    },
    "kernelspec": {
      "name": "python3",
      "display_name": "Python 3"
    }
  },
  "cells": [
    {
      "cell_type": "markdown",
      "metadata": {
        "id": "view-in-github",
        "colab_type": "text"
      },
      "source": [
        "<a href=\"https://colab.research.google.com/github/pias97/A_STAR_SEARCH-and-HILL_CLIMBING/blob/main/A_Star_Search_288.ipynb\" target=\"_parent\"><img src=\"https://colab.research.google.com/assets/colab-badge.svg\" alt=\"Open In Colab\"/></a>"
      ]
    },
    {
      "cell_type": "code",
      "metadata": {
        "id": "cQxypc8fft1A"
      },
      "source": [
        "from queue import PriorityQueue\n",
        "\n",
        "class Node:\n",
        "    def __init__(self,node_num,prev_node,actual_cost_so_far,total_cost):\n",
        "        self.node_num=node_num\n",
        "        self.prev_node=prev_node\n",
        "        self.actual_cost_so_far=actual_cost_so_far\n",
        "        self.total_cost=total_cost\n",
        "\n",
        "    def __lt__(self, other):\n",
        "        return self.total_cost < other.total_cost"
      ],
      "execution_count": null,
      "outputs": []
    },
    {
      "cell_type": "code",
      "metadata": {
        "id": "91FWje32f2Rf"
      },
      "source": [
        "variable_name={0:'S',1:'A',2:'B',3:'C',4:'D'}\n",
        "\n",
        "Heuristic=[7,6,2,1,0]\n",
        "\n",
        "graph=[[-1,1,4,-1,-1],\n",
        "       [-1,-1,2,5,12],\n",
        "       [-1,-1,-1,2,-1],\n",
        "       [-1,-1,-1,-1,3],\n",
        "       [-1,-1,-1,-1,-1]]\n",
        "\n",
        "initial_node = Node(0,-1,0,7)\n",
        "queue = PriorityQueue()\n",
        "queue.put(initial_node)"
      ],
      "execution_count": null,
      "outputs": []
    },
    {
      "cell_type": "code",
      "metadata": {
        "id": "tI2cExgqf59u"
      },
      "source": [
        "def path(node):\n",
        "    print(\"Cost is :\",node.actual_cost_so_far)\n",
        "    path_list=[]\n",
        "    character = variable_name[node.node_num]\n",
        "    path_list.append(character)\n",
        "    while node.prev_node != -1:\n",
        "        node=node.prev_node\n",
        "        character=variable_name[node.node_num]\n",
        "        path_list.append(character)\n",
        "    print(\"Path is :\",path_list )  "
      ],
      "execution_count": null,
      "outputs": []
    },
    {
      "cell_type": "code",
      "metadata": {
        "colab": {
          "base_uri": "https://localhost:8080/"
        },
        "id": "dSXDKPY2f8Xg",
        "outputId": "2ae251aa-9350-4c44-e976-e32daa428234"
      },
      "source": [
        "while not queue.empty():\n",
        "    current = queue.get()\n",
        "    #print(current)\n",
        "    if current.node_num  == 4:\n",
        "        path(current)\n",
        "        break\n",
        "    u = current.node_num\n",
        "    visited_node = graph[u]\n",
        "    i=0\n",
        "    for values in visited_node:\n",
        "        if values == -1:\n",
        "            i+=1\n",
        "            continue\n",
        "        Nob=Node(0,0,0,0)\n",
        "        Nob.prev_node=current\n",
        "        Nob.node_num=i\n",
        "        Nob.actual_cost_so_far=current.actual_cost_so_far+values\n",
        "        Nob.total_cost=Nob.actual_cost_so_far+Heuristic[i]\n",
        "        queue.put(Nob)\n",
        "        i+=1"
      ],
      "execution_count": null,
      "outputs": [
        {
          "output_type": "stream",
          "text": [
            "<__main__.Node object at 0x7efeb57baeb8>\n",
            "<__main__.Node object at 0x7efeb57ba550>\n",
            "<__main__.Node object at 0x7efeb57ba518>\n",
            "<__main__.Node object at 0x7efeb57ba438>\n",
            "<__main__.Node object at 0x7efeb57ba668>\n",
            "<__main__.Node object at 0x7efeb57ba588>\n",
            "<__main__.Node object at 0x7efeb57ba4a8>\n",
            "<__main__.Node object at 0x7efeb57ba5f8>\n",
            "Cost is : 8\n",
            "Path is : ['D', 'C', 'B', 'A', 'S']\n"
          ],
          "name": "stdout"
        }
      ]
    }
  ]
}